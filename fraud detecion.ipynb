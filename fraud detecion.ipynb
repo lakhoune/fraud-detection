{
 "cells": [
  {
   "cell_type": "code",
   "execution_count": 30,
   "metadata": {},
   "outputs": [],
   "source": [
    "import numpy as np\n",
    "import pandas as pd\n",
    "import matplotlib.pyplot as plt\n",
    "import seaborn as sns\n",
    "from sklearn.ensemble import RandomForestClassifier\n",
    "from sklearn.preprocessing import MinMaxScaler\n",
    "from sklearn.metrics import classification_report\n",
    "from sklearn.model_selection import train_test_split\n",
    "from sklearn.model_selection import GridSearchCV\n",
    "from imblearn.under_sampling import RandomUnderSampler\n",
    "from imblearn.over_sampling import SMOTE\n",
    "from imblearn.pipeline import Pipeline"
   ]
  },
  {
   "cell_type": "markdown",
   "metadata": {},
   "source": [
    "# Case Study: Detecting Fraudulent Insurance Claims\n",
    "### Objective: To build a machine learning model that can identify potentially fraudulent insurance claims.\n"
   ]
  },
  {
   "cell_type": "code",
   "execution_count": 31,
   "metadata": {},
   "outputs": [],
   "source": [
    "data = pd.read_excel('Worksheet - Fraud Detection ML model business case.xlsx')\n",
    "EXTRACTION_DATE = '2024-11-11'"
   ]
  },
  {
   "cell_type": "markdown",
   "metadata": {},
   "source": [
    "\n",
    "## Data Exploration and Preprocessing"
   ]
  },
  {
   "cell_type": "code",
   "execution_count": 32,
   "metadata": {},
   "outputs": [],
   "source": [
    "def clean_dates(dates):\n",
    "    return dates.str.replace('--','-', regex=True).replace(' ', '-', regex=True)"
   ]
  },
  {
   "cell_type": "code",
   "execution_count": 33,
   "metadata": {},
   "outputs": [],
   "source": [
    "data = data.drop_duplicates()\n",
    "\n",
    "data['Claim type'] = data['Claim type'].astype('category')\n",
    "data['Claim status'] = data['Claim status'].astype('category')\n",
    "data['Beneficiary gender'] = data['Beneficiary gender'].astype('category')\n",
    "\n",
    "data['Claim amount'] = data['Claim amount'].replace('O', '0', regex=True).astype(float)\n",
    "\n",
    "data['Claim date'] = clean_dates(data['Claim date'])\n",
    "data['Event date'] = clean_dates(data['Event date'])\n",
    "\n",
    "data['Claim date'] = pd.to_datetime(data['Claim date'])\n",
    "data['Event date'] = pd.to_datetime(data['Event date'])"
   ]
  },
  {
   "cell_type": "code",
   "execution_count": 34,
   "metadata": {},
   "outputs": [
    {
     "data": {
      "text/html": [
       "<div>\n",
       "<style scoped>\n",
       "    .dataframe tbody tr th:only-of-type {\n",
       "        vertical-align: middle;\n",
       "    }\n",
       "\n",
       "    .dataframe tbody tr th {\n",
       "        vertical-align: top;\n",
       "    }\n",
       "\n",
       "    .dataframe thead th {\n",
       "        text-align: right;\n",
       "    }\n",
       "</style>\n",
       "<table border=\"1\" class=\"dataframe\">\n",
       "  <thead>\n",
       "    <tr style=\"text-align: right;\">\n",
       "      <th></th>\n",
       "      <th>Claim amount</th>\n",
       "      <th>Event date</th>\n",
       "      <th>Claim date</th>\n",
       "      <th>Beneficiary age</th>\n",
       "      <th>Beneficiary income</th>\n",
       "    </tr>\n",
       "  </thead>\n",
       "  <tbody>\n",
       "    <tr>\n",
       "      <th>count</th>\n",
       "      <td>53317.000000</td>\n",
       "      <td>53317</td>\n",
       "      <td>53317</td>\n",
       "      <td>53317.000000</td>\n",
       "      <td>53317.000000</td>\n",
       "    </tr>\n",
       "    <tr>\n",
       "      <th>mean</th>\n",
       "      <td>26961.625911</td>\n",
       "      <td>2019-11-16 14:32:44.716694528</td>\n",
       "      <td>2019-12-21 23:44:21.732655872</td>\n",
       "      <td>48.015173</td>\n",
       "      <td>34302.823677</td>\n",
       "    </tr>\n",
       "    <tr>\n",
       "      <th>min</th>\n",
       "      <td>305.380000</td>\n",
       "      <td>2014-11-11 00:00:00</td>\n",
       "      <td>2014-11-15 00:00:00</td>\n",
       "      <td>18.000000</td>\n",
       "      <td>0.000000</td>\n",
       "    </tr>\n",
       "    <tr>\n",
       "      <th>25%</th>\n",
       "      <td>15205.340000</td>\n",
       "      <td>2017-05-20 00:00:00</td>\n",
       "      <td>2017-06-25 00:00:00</td>\n",
       "      <td>33.000000</td>\n",
       "      <td>21700.000000</td>\n",
       "    </tr>\n",
       "    <tr>\n",
       "      <th>50%</th>\n",
       "      <td>24098.230000</td>\n",
       "      <td>2019-11-24 00:00:00</td>\n",
       "      <td>2019-12-30 00:00:00</td>\n",
       "      <td>48.000000</td>\n",
       "      <td>32950.000000</td>\n",
       "    </tr>\n",
       "    <tr>\n",
       "      <th>75%</th>\n",
       "      <td>35648.120000</td>\n",
       "      <td>2022-05-13 00:00:00</td>\n",
       "      <td>2022-06-19 00:00:00</td>\n",
       "      <td>63.000000</td>\n",
       "      <td>45550.000000</td>\n",
       "    </tr>\n",
       "    <tr>\n",
       "      <th>max</th>\n",
       "      <td>69990.060000</td>\n",
       "      <td>2024-11-08 00:00:00</td>\n",
       "      <td>2025-02-02 00:00:00</td>\n",
       "      <td>78.000000</td>\n",
       "      <td>114150.000000</td>\n",
       "    </tr>\n",
       "    <tr>\n",
       "      <th>std</th>\n",
       "      <td>15926.438717</td>\n",
       "      <td>NaN</td>\n",
       "      <td>NaN</td>\n",
       "      <td>17.626903</td>\n",
       "      <td>17051.048410</td>\n",
       "    </tr>\n",
       "  </tbody>\n",
       "</table>\n",
       "</div>"
      ],
      "text/plain": [
       "       Claim amount                     Event date  \\\n",
       "count  53317.000000                          53317   \n",
       "mean   26961.625911  2019-11-16 14:32:44.716694528   \n",
       "min      305.380000            2014-11-11 00:00:00   \n",
       "25%    15205.340000            2017-05-20 00:00:00   \n",
       "50%    24098.230000            2019-11-24 00:00:00   \n",
       "75%    35648.120000            2022-05-13 00:00:00   \n",
       "max    69990.060000            2024-11-08 00:00:00   \n",
       "std    15926.438717                            NaN   \n",
       "\n",
       "                          Claim date  Beneficiary age  Beneficiary income  \n",
       "count                          53317     53317.000000        53317.000000  \n",
       "mean   2019-12-21 23:44:21.732655872        48.015173        34302.823677  \n",
       "min              2014-11-15 00:00:00        18.000000            0.000000  \n",
       "25%              2017-06-25 00:00:00        33.000000        21700.000000  \n",
       "50%              2019-12-30 00:00:00        48.000000        32950.000000  \n",
       "75%              2022-06-19 00:00:00        63.000000        45550.000000  \n",
       "max              2025-02-02 00:00:00        78.000000       114150.000000  \n",
       "std                              NaN        17.626903        17051.048410  "
      ]
     },
     "execution_count": 34,
     "metadata": {},
     "output_type": "execute_result"
    }
   ],
   "source": [
    "data.describe()"
   ]
  },
  {
   "cell_type": "markdown",
   "metadata": {},
   "source": [
    "What becomes apparent is that there are claims with a claim date in the future, which is not possible"
   ]
  },
  {
   "cell_type": "code",
   "execution_count": 35,
   "metadata": {},
   "outputs": [
    {
     "data": {
      "text/html": [
       "<div>\n",
       "<style scoped>\n",
       "    .dataframe tbody tr th:only-of-type {\n",
       "        vertical-align: middle;\n",
       "    }\n",
       "\n",
       "    .dataframe tbody tr th {\n",
       "        vertical-align: top;\n",
       "    }\n",
       "\n",
       "    .dataframe thead th {\n",
       "        text-align: right;\n",
       "    }\n",
       "</style>\n",
       "<table border=\"1\" class=\"dataframe\">\n",
       "  <thead>\n",
       "    <tr style=\"text-align: right;\">\n",
       "      <th></th>\n",
       "      <th>Claim number</th>\n",
       "      <th>Policy number</th>\n",
       "      <th>Claim type</th>\n",
       "      <th>Claim amount</th>\n",
       "      <th>Event date</th>\n",
       "      <th>Claim date</th>\n",
       "      <th>Beneficiary gender</th>\n",
       "      <th>Beneficiary age</th>\n",
       "      <th>Beneficiary income</th>\n",
       "      <th>Claim status</th>\n",
       "    </tr>\n",
       "  </thead>\n",
       "  <tbody>\n",
       "    <tr>\n",
       "      <th>9020</th>\n",
       "      <td>NaN</td>\n",
       "      <td>NaN</td>\n",
       "      <td>theft</td>\n",
       "      <td>18371.03</td>\n",
       "      <td>2020-05-11</td>\n",
       "      <td>2020-05-27</td>\n",
       "      <td>female</td>\n",
       "      <td>39</td>\n",
       "      <td>24950</td>\n",
       "      <td>Approved</td>\n",
       "    </tr>\n",
       "    <tr>\n",
       "      <th>30159</th>\n",
       "      <td>NaN</td>\n",
       "      <td>NaN</td>\n",
       "      <td>accident</td>\n",
       "      <td>19626.79</td>\n",
       "      <td>2022-02-03</td>\n",
       "      <td>2022-03-23</td>\n",
       "      <td>female</td>\n",
       "      <td>39</td>\n",
       "      <td>20450</td>\n",
       "      <td>Approved</td>\n",
       "    </tr>\n",
       "    <tr>\n",
       "      <th>37880</th>\n",
       "      <td>NaN</td>\n",
       "      <td>NaN</td>\n",
       "      <td>theft</td>\n",
       "      <td>27497.93</td>\n",
       "      <td>2017-11-12</td>\n",
       "      <td>2018-01-29</td>\n",
       "      <td>male</td>\n",
       "      <td>58</td>\n",
       "      <td>6000</td>\n",
       "      <td>Approved</td>\n",
       "    </tr>\n",
       "  </tbody>\n",
       "</table>\n",
       "</div>"
      ],
      "text/plain": [
       "      Claim number Policy number Claim type  Claim amount Event date  \\\n",
       "9020           NaN           NaN      theft      18371.03 2020-05-11   \n",
       "30159          NaN           NaN   accident      19626.79 2022-02-03   \n",
       "37880          NaN           NaN      theft      27497.93 2017-11-12   \n",
       "\n",
       "      Claim date Beneficiary gender  Beneficiary age  Beneficiary income  \\\n",
       "9020  2020-05-27             female               39               24950   \n",
       "30159 2022-03-23             female               39               20450   \n",
       "37880 2018-01-29               male               58                6000   \n",
       "\n",
       "      Claim status  \n",
       "9020      Approved  \n",
       "30159     Approved  \n",
       "37880     Approved  "
      ]
     },
     "execution_count": 35,
     "metadata": {},
     "output_type": "execute_result"
    }
   ],
   "source": [
    "null_data = data[data.isnull().any(axis=1)]\n",
    "null_data"
   ]
  },
  {
   "cell_type": "markdown",
   "metadata": {},
   "source": [
    "As we can see, three rows have missing values. These are missing the policy number and claim number. Since these are unique identifiers, we can drop them for our analysis. However, it is worth noting that these three claims were actually approved. This could be a potential red flag for fraud, but we will not consider it in this analysis as we assume it to be a data entry error."
   ]
  },
  {
   "cell_type": "code",
   "execution_count": 36,
   "metadata": {},
   "outputs": [],
   "source": [
    "data = data.dropna() "
   ]
  },
  {
   "cell_type": "code",
   "execution_count": 37,
   "metadata": {},
   "outputs": [
    {
     "name": "stdout",
     "output_type": "stream",
     "text": [
      "438 0.8521400778210116\n",
      "514\n"
     ]
    }
   ],
   "source": [
    "future_claims = data[data['Claim date'] > pd.to_datetime(EXTRACTION_DATE)] # claims made after 11th November 2024\n",
    "future_approved_claims = future_claims[future_claims['Claim status'] == 'Approved']\n",
    "print(len(future_approved_claims), len(future_approved_claims) / len(future_claims))\n",
    "print(len(future_claims))"
   ]
  },
  {
   "cell_type": "markdown",
   "metadata": {},
   "source": [
    "We observe that **514** claims have a future claim date, **85% (438)** of which are approved. This is a clear indication of fraud. "
   ]
  },
  {
   "cell_type": "code",
   "execution_count": 38,
   "metadata": {},
   "outputs": [],
   "source": [
    "duplicate_claim_numbers = data[data.duplicated(subset='Claim number')]"
   ]
  },
  {
   "cell_type": "code",
   "execution_count": 39,
   "metadata": {},
   "outputs": [
    {
     "data": {
      "text/plain": [
       "<Axes: title={'center': 'Claim amount distribution'}, xlabel='Claim amount', ylabel='Count'>"
      ]
     },
     "execution_count": 39,
     "metadata": {},
     "output_type": "execute_result"
    },
    {
     "data": {
      "image/png": "[encoded data removed]",
      "text/plain": [
       "<Figure size 1000x600 with 1 Axes>"
      ]
     },
     "metadata": {},
     "output_type": "display_data"
    }
   ],
   "source": [
    "plt.figure(figsize=(10, 6))\n",
    "plt.title('Claim amount distribution')\n",
    "sns.histplot(data['Claim amount'])"
   ]
  },
  {
   "cell_type": "markdown",
   "metadata": {},
   "source": [
    "We observe that our claim amount is a bell curve that is skewed to the right. This is a first indicator that fraudulent claims are likely to be on the higher end of the claim amount."
   ]
  },
  {
   "cell_type": "code",
   "execution_count": 40,
   "metadata": {},
   "outputs": [
    {
     "data": {
      "image/png": "[encoded data removed]",
      "text/plain": [
       "<Figure size 1000x600 with 1 Axes>"
      ]
     },
     "metadata": {},
     "output_type": "display_data"
    }
   ],
   "source": [
    "plt.figure(figsize=(10, 6))\n",
    "plt.title('Claim amount distribution by claim type')\n",
    "sns.boxplot(x='Claim type', y='Claim amount', data=data)\n",
    "plt.show()\n",
    "# accident_outliers of the boxplot using the IQR method \n",
    "Q1 = np.percentile(data[data['Claim type']== 'accident']['Claim amount'], 25)\n",
    "Q3 = np.percentile(data[data['Claim type']== 'accident']['Claim amount'], 75)\n",
    "IQR = Q3 - Q1\n",
    "accident_outliers = data[(data['Claim type']== 'accident') & ((data['Claim amount'] > (Q3 + 1.5 * IQR)))]\n",
    "accident_outliers\n",
    "\n",
    "Q1 = np.percentile(data[data['Claim type']== 'theft']['Claim amount'], 25)\n",
    "Q3 = np.percentile(data[data['Claim type']== 'theft']['Claim amount'], 75)\n",
    "IQR = Q3 - Q1\n",
    "theft_outliers = data[(data['Claim type']== 'theft') & ((data['Claim amount'] > (Q3 + 1.5 * IQR)))]"
   ]
  },
  {
   "cell_type": "markdown",
   "metadata": {},
   "source": [
    "Here we observe that fire claims have the highest average claim amount. At the same time, accident and theft claims have some outliers that are significantly higher than the rest. This is a good indicator that these types of claims are more likely to be fraudulent."
   ]
  },
  {
   "cell_type": "markdown",
   "metadata": {},
   "source": [
    "## Feature Engineering"
   ]
  },
  {
   "cell_type": "markdown",
   "metadata": {},
   "source": [
    "\n",
    "We create a new feature called 'Warning'. This feature takes the values Future Claim or Reused Claim or None:\n",
    "- If it is 'Future Claim', it means that the claim was filed for a future date. \n",
    "- If it is 'Reused Claim', it means that the claim was filed for an incident that had already been claimed before. "
   ]
  },
  {
   "cell_type": "code",
   "execution_count": 41,
   "metadata": {},
   "outputs": [],
   "source": [
    "data['Warning'] = np.nan\n",
    "data['Warning'] = data['Warning'].astype('category')\n",
    "data['Warning'] = data['Warning'].cat.add_categories(['Future claim','Reused claim'])\n",
    "data.loc[data['Claim date'] > pd.to_datetime(EXTRACTION_DATE), 'Warning'] = 'Future claim'\n",
    "data.loc[data.duplicated(subset='Claim number', keep=False), 'Warning'] = 'Reused claim'"
   ]
  },
  {
   "cell_type": "markdown",
   "metadata": {},
   "source": [
    "We create a new feature called 'Days between claim and event' which is the difference between the claim date and the event date. This feature could help in identifying fraudulent claims. For example, if the claim is filed after a long time from the incident date, it could be a potential red flag for fraud."
   ]
  },
  {
   "cell_type": "code",
   "execution_count": 42,
   "metadata": {},
   "outputs": [],
   "source": [
    "data['Days between claim and event'] = (data['Claim date'] - data['Event date']).dt.days\n"
   ]
  },
  {
   "cell_type": "markdown",
   "metadata": {},
   "source": [
    "We create the 'Amount to income ratio' feature which is the ratio of the claim amount to the annual income. The idea is to reduce the multi-collinearity between the claim amount and the annual income. This feature could help in identifying fraudulent claims. For example, if the claim amount is very high compared to the annual income, it could be a potential red flag for fraud."
   ]
  },
  {
   "cell_type": "code",
   "execution_count": 43,
   "metadata": {},
   "outputs": [],
   "source": [
    "data['Amount to income ratio'] = data['Claim amount'] / data['Beneficiary income'] \n",
    "data['Amount to income ratio'] = data['Amount to income ratio'].replace(np.inf, 0)"
   ]
  },
  {
   "cell_type": "markdown",
   "metadata": {},
   "source": [
    "Per claim type we also check how much the claim amount is compared to the average claim amount for that claim type"
   ]
  },
  {
   "cell_type": "code",
   "execution_count": 44,
   "metadata": {},
   "outputs": [
    {
     "name": "stderr",
     "output_type": "stream",
     "text": [
      "/var/folders/v9/05xy48h15_36s17mc3cb21z00000gn/T/ipykernel_24065/3008163914.py:1: FutureWarning: The default of observed=False is deprecated and will be changed to True in a future version of pandas. Pass observed=False to retain current behavior or observed=True to adopt the future default and silence this warning.\n",
      "  data['Mean claim amount per type'] = data.groupby('Claim type')['Claim amount'].transform('mean')\n"
     ]
    }
   ],
   "source": [
    "data['Mean claim amount per type'] = data.groupby('Claim type')['Claim amount'].transform('mean')\n",
    "data['Claim amount deviation'] = data['Claim amount'] - data['Mean claim amount per type']"
   ]
  },
  {
   "cell_type": "markdown",
   "metadata": {},
   "source": [
    "Lastly a target variable 'Fraudulent' is created. This is the variable we want to predict. It takes the value 1 if the claim is fraudulent and 0 otherwise. In our case a claim is considered fraudulent if it is either a future claim or a reused claim or the claim status is Rejected fraud"
   ]
  },
  {
   "cell_type": "code",
   "execution_count": 45,
   "metadata": {},
   "outputs": [],
   "source": [
    "data['Fraudulent'] = 0\n",
    "data.loc[data['Warning'] == 'Future claim', 'Fraudulent'] = 1\n",
    "data.loc[data['Warning'] == 'Reused claim', 'Fraudulent'] = 1\n",
    "data.loc[data['Claim status'] == 'Rejected fraud', 'Fraudulent'] = 1"
   ]
  },
  {
   "cell_type": "code",
   "execution_count": 46,
   "metadata": {},
   "outputs": [
    {
     "data": {
      "image/png": "[encoded data removed]",
      "text/plain": [
       "<Figure size 800x400 with 1 Axes>"
      ]
     },
     "metadata": {},
     "output_type": "display_data"
    }
   ],
   "source": [
    "plt.figure(figsize=(8, 4))\n",
    "plt.title('Fraudulent claims')\n",
    "plt.axis('off')\n",
    "pie_data = data['Fraudulent'].replace({0: 'Not fraudulent', 1: 'Fraudulent'})\n",
    "pie_data.value_counts().plot.pie(autopct='%1.1f%%')\n",
    "plt.show()"
   ]
  },
  {
   "cell_type": "markdown",
   "metadata": {},
   "source": [
    "What is very noticeable is that we have only 6.2% fraudulent claims in our dataset. This is a clear indication of class imbalance. This will be addressed later in the analysis."
   ]
  },
  {
   "cell_type": "code",
   "execution_count": 47,
   "metadata": {},
   "outputs": [],
   "source": [
    "model_data = data[['Claim type','Claim amount','Beneficiary gender', 'Beneficiary income', 'Warning', 'Days between claim and event', 'Amount to income ratio', 'Claim amount deviation', 'Fraudulent']]\n",
    "X = model_data.drop(columns='Fraudulent')\n",
    "y = model_data['Fraudulent']\n",
    "X = pd.get_dummies(X, columns=['Claim type', 'Beneficiary gender', 'Warning'], drop_first=True)\n",
    "encoded_feature_names = X.columns"
   ]
  },
  {
   "cell_type": "code",
   "execution_count": 48,
   "metadata": {},
   "outputs": [],
   "source": [
    "X_train, X_test, y_train, y_test = train_test_split(X, y, test_size=0.1, random_state=42)"
   ]
  },
  {
   "cell_type": "code",
   "execution_count": 49,
   "metadata": {},
   "outputs": [],
   "source": [
    "scaler = MinMaxScaler()\n",
    "smote = SMOTE(sampling_strategy='auto', random_state=42)\n",
    "undersample = RandomUnderSampler(sampling_strategy='auto', random_state=42)"
   ]
  },
  {
   "cell_type": "code",
   "execution_count": 50,
   "metadata": {},
   "outputs": [],
   "source": [
    "\n",
    "# classifier = RandomForestClassifier()\n",
    "# pipeline = Pipeline([\n",
    "#     ('scaler', scaler),\n",
    "#     ('oversample', smote),\n",
    "#     ('undersample', undersample),\n",
    "#     ('classifier', classifier)\n",
    "# ])\n",
    "# param_grid = {\n",
    "#     'classifier__n_estimators': [100, 200, 300],\n",
    "#     'classifier__max_depth': [10, 20, 30, 40, 50],\n",
    "#     'classifier__min_samples_split': [2, 5, 10],\n",
    "#     'classifier__min_samples_leaf': [1, 2, 4]\n",
    "# }\n",
    "\n",
    "# grid = GridSearchCV(pipeline, param_grid, cv=5)\n",
    "\n",
    "# grid.fit(X_train, y_train)\n",
    "\n",
    "# grid.best_params_"
   ]
  },
  {
   "cell_type": "markdown",
   "metadata": {},
   "source": [
    "While running the GridSearchCV, we see that the model performs best with the following parameters:\n",
    "`{'classifier__max_depth': 50,\n",
    " 'classifier__min_samples_leaf': 1,\n",
    " 'classifier__min_samples_split': 5,\n",
    " 'classifier__n_estimators': 300}` \n",
    "For performance reasons the code is commented out, but the best parameters are used in the final model"
   ]
  },
  {
   "cell_type": "code",
   "execution_count": null,
   "metadata": {},
   "outputs": [],
   "source": [
    "classifier = RandomForestClassifier(max_depth=50, min_samples_leaf=1, min_samples_split=5, n_estimators=300, class_weight='balanced')\n",
    "\n",
    "pipeline = Pipeline([\n",
    "    ('scaler', scaler),\n",
    "    ('oversample', smote),\n",
    "    ('undersample', undersample),\n",
    "    ('classifier', classifier)\n",
    "])\n",
    "\n",
    "pipeline.fit(X_train, y_train)"
   ]
  },
  {
   "cell_type": "markdown",
   "metadata": {},
   "source": [
    "## Model Evaluation and Interpretation"
   ]
  },
  {
   "cell_type": "code",
   "execution_count": null,
   "metadata": {},
   "outputs": [
    {
     "name": "stdout",
     "output_type": "stream",
     "text": [
      "              precision    recall  f1-score   support\n",
      "\n",
      "           0       0.95      0.89      0.92      5012\n",
      "           1       0.10      0.19      0.13       320\n",
      "\n",
      "    accuracy                           0.85      5332\n",
      "   macro avg       0.52      0.54      0.53      5332\n",
      "weighted avg       0.89      0.85      0.87      5332\n",
      "\n"
     ]
    }
   ],
   "source": [
    "y_pred = pipeline.predict(X_test)\n",
    "print(classification_report(y_test, y_pred))"
   ]
  },
  {
   "cell_type": "code",
   "execution_count": null,
   "metadata": {},
   "outputs": [
    {
     "data": {
      "image/png": "[encoded data removed]",
      "text/plain": [
       "<Figure size 600x300 with 2 Axes>"
      ]
     },
     "metadata": {},
     "output_type": "display_data"
    }
   ],
   "source": [
    "# plot the confusion matrix with tpr as a heatmap\n",
    "plt.figure(figsize=(6, 3))\n",
    "plt.title('Confusion matrix')\n",
    "\n",
    "sns.heatmap(pd.crosstab(\n",
    "                y_test.replace({0: 'Not fraudulent', 1: 'Fraudulent'}), \n",
    "                pd.Series(y_pred).replace({0: 'Not fraudulent', 1: 'Fraudulent'}), \n",
    "                rownames=['Actual'], colnames=['Predicted']\n",
    "            ),\n",
    "        annot=True, fmt='d'\n",
    "    )\n",
    "plt.show()"
   ]
  },
  {
   "cell_type": "code",
   "execution_count": null,
   "metadata": {},
   "outputs": [
    {
     "ename": "NotFittedError",
     "evalue": "This RandomForestClassifier instance is not fitted yet. Call 'fit' with appropriate arguments before using this estimator.",
     "output_type": "error",
     "traceback": [
      "\u001b[0;31m---------------------------------------------------------------------------\u001b[0m",
      "\u001b[0;31mNotFittedError\u001b[0m                            Traceback (most recent call last)",
      "Cell \u001b[0;32mIn[29], line 3\u001b[0m\n\u001b[1;32m      1\u001b[0m feature_importance \u001b[38;5;241m=\u001b[39m pd\u001b[38;5;241m.\u001b[39mDataFrame({\n\u001b[1;32m      2\u001b[0m     \u001b[38;5;124m'\u001b[39m\u001b[38;5;124mFeature\u001b[39m\u001b[38;5;124m'\u001b[39m: encoded_feature_names,\n\u001b[0;32m----> 3\u001b[0m     \u001b[38;5;124m'\u001b[39m\u001b[38;5;124mImportance\u001b[39m\u001b[38;5;124m'\u001b[39m: \u001b[43mpipeline\u001b[49m\u001b[38;5;241;43m.\u001b[39;49m\u001b[43mnamed_steps\u001b[49m\u001b[43m[\u001b[49m\u001b[38;5;124;43m'\u001b[39;49m\u001b[38;5;124;43mclassifier\u001b[39;49m\u001b[38;5;124;43m'\u001b[39;49m\u001b[43m]\u001b[49m\u001b[38;5;241;43m.\u001b[39;49m\u001b[43mfeature_importances_\u001b[49m\n\u001b[1;32m      4\u001b[0m })\u001b[38;5;241m.\u001b[39msort_values(by\u001b[38;5;241m=\u001b[39m\u001b[38;5;124m'\u001b[39m\u001b[38;5;124mImportance\u001b[39m\u001b[38;5;124m'\u001b[39m, ascending\u001b[38;5;241m=\u001b[39m\u001b[38;5;28;01mFalse\u001b[39;00m)\n\u001b[1;32m      6\u001b[0m plt\u001b[38;5;241m.\u001b[39mfigure(figsize\u001b[38;5;241m=\u001b[39m(\u001b[38;5;241m10\u001b[39m, \u001b[38;5;241m7\u001b[39m))\n\u001b[1;32m      7\u001b[0m sns\u001b[38;5;241m.\u001b[39mbarplot(x\u001b[38;5;241m=\u001b[39m\u001b[38;5;124m'\u001b[39m\u001b[38;5;124mImportance\u001b[39m\u001b[38;5;124m'\u001b[39m, y\u001b[38;5;241m=\u001b[39m\u001b[38;5;124m'\u001b[39m\u001b[38;5;124mFeature\u001b[39m\u001b[38;5;124m'\u001b[39m, data\u001b[38;5;241m=\u001b[39mfeature_importance)\n",
      "File \u001b[0;32m~/Library/Mobile Documents/com~apple~CloudDocs/Bewerbungen/Companies/Wavestone/.venv/lib/python3.11/site-packages/sklearn/ensemble/_forest.py:673\u001b[0m, in \u001b[0;36mBaseForest.feature_importances_\u001b[0;34m(self)\u001b[0m\n\u001b[1;32m    652\u001b[0m \u001b[38;5;129m@property\u001b[39m\n\u001b[1;32m    653\u001b[0m \u001b[38;5;28;01mdef\u001b[39;00m \u001b[38;5;21mfeature_importances_\u001b[39m(\u001b[38;5;28mself\u001b[39m):\n\u001b[1;32m    654\u001b[0m \u001b[38;5;250m    \u001b[39m\u001b[38;5;124;03m\"\"\"\u001b[39;00m\n\u001b[1;32m    655\u001b[0m \u001b[38;5;124;03m    The impurity-based feature importances.\u001b[39;00m\n\u001b[1;32m    656\u001b[0m \n\u001b[0;32m   (...)\u001b[0m\n\u001b[1;32m    671\u001b[0m \u001b[38;5;124;03m        array of zeros.\u001b[39;00m\n\u001b[1;32m    672\u001b[0m \u001b[38;5;124;03m    \"\"\"\u001b[39;00m\n\u001b[0;32m--> 673\u001b[0m     \u001b[43mcheck_is_fitted\u001b[49m\u001b[43m(\u001b[49m\u001b[38;5;28;43mself\u001b[39;49m\u001b[43m)\u001b[49m\n\u001b[1;32m    675\u001b[0m     all_importances \u001b[38;5;241m=\u001b[39m Parallel(n_jobs\u001b[38;5;241m=\u001b[39m\u001b[38;5;28mself\u001b[39m\u001b[38;5;241m.\u001b[39mn_jobs, prefer\u001b[38;5;241m=\u001b[39m\u001b[38;5;124m\"\u001b[39m\u001b[38;5;124mthreads\u001b[39m\u001b[38;5;124m\"\u001b[39m)(\n\u001b[1;32m    676\u001b[0m         delayed(\u001b[38;5;28mgetattr\u001b[39m)(tree, \u001b[38;5;124m\"\u001b[39m\u001b[38;5;124mfeature_importances_\u001b[39m\u001b[38;5;124m\"\u001b[39m)\n\u001b[1;32m    677\u001b[0m         \u001b[38;5;28;01mfor\u001b[39;00m tree \u001b[38;5;129;01min\u001b[39;00m \u001b[38;5;28mself\u001b[39m\u001b[38;5;241m.\u001b[39mestimators_\n\u001b[1;32m    678\u001b[0m         \u001b[38;5;28;01mif\u001b[39;00m tree\u001b[38;5;241m.\u001b[39mtree_\u001b[38;5;241m.\u001b[39mnode_count \u001b[38;5;241m>\u001b[39m \u001b[38;5;241m1\u001b[39m\n\u001b[1;32m    679\u001b[0m     )\n\u001b[1;32m    681\u001b[0m     \u001b[38;5;28;01mif\u001b[39;00m \u001b[38;5;129;01mnot\u001b[39;00m all_importances:\n",
      "File \u001b[0;32m~/Library/Mobile Documents/com~apple~CloudDocs/Bewerbungen/Companies/Wavestone/.venv/lib/python3.11/site-packages/sklearn/utils/validation.py:1661\u001b[0m, in \u001b[0;36mcheck_is_fitted\u001b[0;34m(estimator, attributes, msg, all_or_any)\u001b[0m\n\u001b[1;32m   1658\u001b[0m     \u001b[38;5;28;01mraise\u001b[39;00m \u001b[38;5;167;01mTypeError\u001b[39;00m(\u001b[38;5;124m\"\u001b[39m\u001b[38;5;132;01m%s\u001b[39;00m\u001b[38;5;124m is not an estimator instance.\u001b[39m\u001b[38;5;124m\"\u001b[39m \u001b[38;5;241m%\u001b[39m (estimator))\n\u001b[1;32m   1660\u001b[0m \u001b[38;5;28;01mif\u001b[39;00m \u001b[38;5;129;01mnot\u001b[39;00m _is_fitted(estimator, attributes, all_or_any):\n\u001b[0;32m-> 1661\u001b[0m     \u001b[38;5;28;01mraise\u001b[39;00m NotFittedError(msg \u001b[38;5;241m%\u001b[39m {\u001b[38;5;124m\"\u001b[39m\u001b[38;5;124mname\u001b[39m\u001b[38;5;124m\"\u001b[39m: \u001b[38;5;28mtype\u001b[39m(estimator)\u001b[38;5;241m.\u001b[39m\u001b[38;5;18m__name__\u001b[39m})\n",
      "\u001b[0;31mNotFittedError\u001b[0m: This RandomForestClassifier instance is not fitted yet. Call 'fit' with appropriate arguments before using this estimator."
     ]
    }
   ],
   "source": [
    "feature_importance = pd.DataFrame({\n",
    "    'Feature': encoded_feature_names,\n",
    "    'Importance': pipeline.named_steps['classifier'].feature_importances_\n",
    "}).sort_values(by='Importance', ascending=False)\n",
    "\n",
    "plt.figure(figsize=(10, 7))\n",
    "sns.barplot(x='Importance', y='Feature', data=feature_importance)\n",
    "plt.title('Feature Importance (Random Forest)')\n",
    "plt.show()\n"
   ]
  },
  {
   "cell_type": "code",
   "execution_count": null,
   "metadata": {},
   "outputs": [],
   "source": [
    "# 4.Model Evaluation and Interpretation:\n",
    "# 1. Analyze the model’s performance.\n",
    "# 2. Identify the most important features contributing to fraud detection.\n",
    "# 3. Discuss potential improvements and next steps."
   ]
  }
 ],
 "metadata": {
  "kernelspec": {
   "display_name": ".venv",
   "language": "python",
   "name": "python3"
  },
  "language_info": {
   "codemirror_mode": {
    "name": "ipython",
    "version": 3
   },
   "file_extension": ".py",
   "mimetype": "text/x-python",
   "name": "python",
   "nbconvert_exporter": "python",
   "pygments_lexer": "ipython3",
   "version": "3.11.4"
  }
 },
 "nbformat": 4,
 "nbformat_minor": 2
}
